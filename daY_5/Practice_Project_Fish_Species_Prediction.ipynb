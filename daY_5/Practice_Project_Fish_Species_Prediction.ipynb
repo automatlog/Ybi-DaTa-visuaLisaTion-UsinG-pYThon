{
  "nbformat": 4,
  "nbformat_minor": 0,
  "metadata": {
    "colab": {
      "provenance": [],
      "collapsed_sections": []
    },
    "kernelspec": {
      "name": "python3",
      "display_name": "Python 3"
    },
    "language_info": {
      "name": "python"
    }
  },
  "cells": [
    {
      "cell_type": "markdown",
      "source": [
        "# **Fish Species Prediction**\n",
        "\n",
        "Identify the category of fish from 7 common different fish species.\n",
        "\n",
        "Dataset : https://github.com/ybifoundation/Dataset/raw/main/Fish.csv"
      ],
      "metadata": {
        "id": "HL0BCLb9zlgP"
      }
    },
    {
      "cell_type": "code",
      "source": [],
      "metadata": {
        "id": "D61XetCMbkBN"
      },
      "execution_count": null,
      "outputs": []
    }
  ]
}